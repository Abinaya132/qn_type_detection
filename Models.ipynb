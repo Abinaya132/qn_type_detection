{
 "cells": [
  {
   "cell_type": "code",
   "execution_count": 1,
   "metadata": {},
   "outputs": [],
   "source": [
    "import warnings\n",
    "warnings.filterwarnings('ignore')"
   ]
  },
  {
   "cell_type": "code",
   "execution_count": 2,
   "metadata": {},
   "outputs": [
    {
     "name": "stderr",
     "output_type": "stream",
     "text": [
      "Using TensorFlow backend.\n",
      "/usr/local/lib/python2.7/dist-packages/sklearn/cross_validation.py:41: DeprecationWarning: This module was deprecated in version 0.18 in favor of the model_selection module into which all the refactored classes and functions are moved. Also note that the interface of the new CV iterators are different from that of this module. This module will be removed in 0.20.\n",
      "  \"This module will be removed in 0.20.\", DeprecationWarning)\n"
     ]
    }
   ],
   "source": [
    "from models import *"
   ]
  },
  {
   "cell_type": "code",
   "execution_count": 114,
   "metadata": {
    "scrolled": true
   },
   "outputs": [
    {
     "name": "stdout",
     "output_type": "stream",
     "text": [
      "Train on 993 samples, validate on 490 samples\n",
      "Epoch 1/32\n",
      "993/993 [==============================] - 58s 58ms/step - loss: 0.4316 - acc: 0.8123 - val_loss: 0.3854 - val_acc: 0.8690\n",
      "Epoch 2/32\n",
      "993/993 [==============================] - 56s 56ms/step - loss: 0.2939 - acc: 0.9063 - val_loss: 0.2188 - val_acc: 0.9273\n",
      "Epoch 3/32\n",
      "993/993 [==============================] - 56s 56ms/step - loss: 0.1622 - acc: 0.9482 - val_loss: 0.1493 - val_acc: 0.9502\n",
      "Epoch 4/32\n",
      "993/993 [==============================] - 56s 56ms/step - loss: 0.1128 - acc: 0.9617 - val_loss: 0.1208 - val_acc: 0.9596\n",
      "Epoch 5/32\n",
      "993/993 [==============================] - 56s 56ms/step - loss: 0.0812 - acc: 0.9770 - val_loss: 0.0965 - val_acc: 0.9714\n",
      "Epoch 6/32\n",
      "993/993 [==============================] - 56s 56ms/step - loss: 0.0576 - acc: 0.9881 - val_loss: 0.0858 - val_acc: 0.9759\n",
      "Epoch 7/32\n",
      "993/993 [==============================] - 56s 56ms/step - loss: 0.0431 - acc: 0.9913 - val_loss: 0.0775 - val_acc: 0.9800\n",
      "Epoch 8/32\n",
      "993/993 [==============================] - 56s 56ms/step - loss: 0.0323 - acc: 0.9936 - val_loss: 0.0709 - val_acc: 0.9800\n",
      "Epoch 9/32\n",
      "993/993 [==============================] - 56s 56ms/step - loss: 0.0252 - acc: 0.9944 - val_loss: 0.0705 - val_acc: 0.9800\n",
      "Epoch 10/32\n",
      "993/993 [==============================] - 56s 56ms/step - loss: 0.0164 - acc: 0.9968 - val_loss: 0.0700 - val_acc: 0.9804\n",
      "Epoch 11/32\n",
      "993/993 [==============================] - 55s 56ms/step - loss: 0.0135 - acc: 0.9974 - val_loss: 0.0679 - val_acc: 0.9812\n",
      "Epoch 12/32\n",
      "993/993 [==============================] - 55s 56ms/step - loss: 0.0112 - acc: 0.9970 - val_loss: 0.0676 - val_acc: 0.9816\n",
      "Epoch 13/32\n",
      "993/993 [==============================] - 56s 56ms/step - loss: 0.0080 - acc: 0.9978 - val_loss: 0.0681 - val_acc: 0.9820\n",
      "Epoch 14/32\n",
      "993/993 [==============================] - 56s 56ms/step - loss: 0.0052 - acc: 0.9996 - val_loss: 0.0686 - val_acc: 0.9833\n",
      "Epoch 15/32\n",
      "993/993 [==============================] - 56s 56ms/step - loss: 0.0033 - acc: 0.9996 - val_loss: 0.0707 - val_acc: 0.9833\n",
      "Epoch 16/32\n",
      "993/993 [==============================] - 56s 56ms/step - loss: 0.0036 - acc: 0.9992 - val_loss: 0.0691 - val_acc: 0.9837\n",
      "Epoch 17/32\n",
      "993/993 [==============================] - 56s 56ms/step - loss: 0.0023 - acc: 1.0000 - val_loss: 0.0742 - val_acc: 0.9845\n",
      "Epoch 18/32\n",
      "993/993 [==============================] - 56s 56ms/step - loss: 0.0031 - acc: 0.9992 - val_loss: 0.0701 - val_acc: 0.9841\n",
      "Epoch 19/32\n",
      "993/993 [==============================] - 56s 56ms/step - loss: 0.0021 - acc: 1.0000 - val_loss: 0.0763 - val_acc: 0.9849\n",
      "Epoch 20/32\n",
      "993/993 [==============================] - 56s 56ms/step - loss: 0.0014 - acc: 1.0000 - val_loss: 0.0766 - val_acc: 0.9841\n",
      "Epoch 21/32\n",
      "993/993 [==============================] - 56s 56ms/step - loss: 0.0013 - acc: 1.0000 - val_loss: 0.0774 - val_acc: 0.9841\n",
      "Epoch 22/32\n",
      "993/993 [==============================] - 56s 56ms/step - loss: 0.0011 - acc: 1.0000 - val_loss: 0.0775 - val_acc: 0.9841\n",
      "Epoch 23/32\n",
      "993/993 [==============================] - 56s 56ms/step - loss: 7.7084e-04 - acc: 1.0000 - val_loss: 0.0792 - val_acc: 0.9841\n",
      "Epoch 24/32\n",
      "993/993 [==============================] - 56s 56ms/step - loss: 0.0013 - acc: 1.0000 - val_loss: 0.0774 - val_acc: 0.9841\n",
      "Epoch 25/32\n",
      "993/993 [==============================] - 56s 56ms/step - loss: 7.5119e-04 - acc: 1.0000 - val_loss: 0.0803 - val_acc: 0.9837\n",
      "Epoch 26/32\n",
      "993/993 [==============================] - 57s 57ms/step - loss: 5.9676e-04 - acc: 1.0000 - val_loss: 0.0809 - val_acc: 0.9837\n",
      "Epoch 27/32\n",
      "993/993 [==============================] - 58s 58ms/step - loss: 6.4161e-04 - acc: 1.0000 - val_loss: 0.0804 - val_acc: 0.9841\n",
      "Epoch 28/32\n",
      "993/993 [==============================] - 56s 56ms/step - loss: 4.4680e-04 - acc: 1.0000 - val_loss: 0.0830 - val_acc: 0.9845\n",
      "Epoch 29/32\n",
      "993/993 [==============================] - 56s 56ms/step - loss: 4.0219e-04 - acc: 1.0000 - val_loss: 0.0845 - val_acc: 0.9845\n",
      "Epoch 30/32\n",
      "993/993 [==============================] - 56s 56ms/step - loss: 2.8220e-04 - acc: 1.0000 - val_loss: 0.0858 - val_acc: 0.9845\n",
      "Epoch 31/32\n",
      "993/993 [==============================] - 56s 56ms/step - loss: 2.7541e-04 - acc: 1.0000 - val_loss: 0.0869 - val_acc: 0.9845\n",
      "Epoch 32/32\n",
      "993/993 [==============================] - 56s 56ms/step - loss: 3.8165e-04 - acc: 1.0000 - val_loss: 0.0867 - val_acc: 0.9845\n",
      "Saved model to disk\n"
     ]
    },
    {
     "data": {
      "text/plain": [
       "<keras.engine.training.Model at 0x7f61a1041a90>"
      ]
     },
     "execution_count": 114,
     "metadata": {},
     "output_type": "execute_result"
    }
   ],
   "source": [
    "kerasmodel().run_keras_model()"
   ]
  },
  {
   "cell_type": "code",
   "execution_count": 6,
   "metadata": {},
   "outputs": [
    {
     "data": {
      "text/plain": [
       "(MultinomialNB(alpha=1.0, class_prior=None, fit_prior=True),\n",
       " array([ 0.81      ,  0.85858586,  0.83673469,  0.82474227,  0.84375   ]),\n",
       " 0.83476256410092931)"
      ]
     },
     "execution_count": 6,
     "metadata": {},
     "output_type": "execute_result"
    }
   ],
   "source": [
    "count_vect_model().get_countvect()"
   ]
  },
  {
   "cell_type": "code",
   "execution_count": 3,
   "metadata": {},
   "outputs": [
    {
     "data": {
      "text/plain": [
       "(MultinomialNB(alpha=1.0, class_prior=None, fit_prior=True),\n",
       " array([ 0.61      ,  0.64646465,  0.63265306,  0.58762887,  0.60416667]),\n",
       " 0.61618264806703693)"
      ]
     },
     "execution_count": 3,
     "metadata": {},
     "output_type": "execute_result"
    }
   ],
   "source": [
    "tfidf_vect_model().get_tfidfvect()"
   ]
  },
  {
   "cell_type": "code",
   "execution_count": 4,
   "metadata": {},
   "outputs": [
    {
     "data": {
      "text/plain": [
       "(MultinomialNB(alpha=1.0, class_prior=None, fit_prior=True),\n",
       " array([ 0.98      ,  0.92929293,  0.94897959,  0.95876289,  0.95833333]),\n",
       " 0.95507374821218716)"
      ]
     },
     "execution_count": 4,
     "metadata": {},
     "output_type": "execute_result"
    }
   ],
   "source": [
    "get_model_feats().get_nb_model()"
   ]
  },
  {
   "cell_type": "code",
   "execution_count": null,
   "metadata": {},
   "outputs": [],
   "source": []
  },
  {
   "cell_type": "code",
   "execution_count": 3,
   "metadata": {},
   "outputs": [
    {
     "name": "stdout",
     "output_type": "stream",
     "text": [
      "Loaded model from disk\n"
     ]
    },
    {
     "data": {
      "text/plain": [
       "[('Where am I', 'unknown'),\n",
       " ('Who are you', 'who'),\n",
       " ('Why am I here ', 'unknown'),\n",
       " ('Where is this ', 'unknown'),\n",
       " ('Who is your brother', 'who'),\n",
       " ('Are you mad ', 'affirmation'),\n",
       " ('Why are you sad', 'unknown'),\n",
       " ('Who are you', 'who'),\n",
       " ('When is the train', 'when'),\n",
       " ('Any idea who is this guy?', 'who'),\n",
       " ('what are you saying ', 'what'),\n",
       " ('any idea where the model is loaded ? ', 'unknown'),\n",
       " ('do you know when can we expect the train', 'when')]"
      ]
     },
     "execution_count": 3,
     "metadata": {},
     "output_type": "execute_result"
    }
   ],
   "source": [
    "test_x_ = ['Where am I','Who are you','Why am I here ','Where is this ','Who is your brother','Are you mad ',\\\n",
    "          'Why are you sad' , 'Who are you' , 'When is the train' , 'Any idea who is this guy?',\n",
    "          'what are you saying ','any idea where the model is loaded ? ' , 'do you know when can we expect the train']\n",
    "\n",
    "test_prediction().get_predictions(test_x_)"
   ]
  },
  {
   "cell_type": "code",
   "execution_count": null,
   "metadata": {},
   "outputs": [],
   "source": [
    "#runs the model again and then tests for the input \n",
    "test_x_ = ['Where am I','Who are you','Why am I here ','Where is this ','Who is your brother','Are you mad ',\\\n",
    "          'Why are you sad' , 'Who are you' , 'When is the train' , 'Any idea who is this guy?',\n",
    "          'what are you saying ','any idea where the model is loaded ? ' , 'do you know when can we expect the train']\n",
    "\n",
    "test_prediction(train=True).get_predictions(test_x_)"
   ]
  },
  {
   "cell_type": "code",
   "execution_count": null,
   "metadata": {},
   "outputs": [],
   "source": []
  }
 ],
 "metadata": {
  "kernelspec": {
   "display_name": "Python 2",
   "language": "python",
   "name": "python2"
  },
  "language_info": {
   "codemirror_mode": {
    "name": "ipython",
    "version": 2
   },
   "file_extension": ".py",
   "mimetype": "text/x-python",
   "name": "python",
   "nbconvert_exporter": "python",
   "pygments_lexer": "ipython2",
   "version": "2.7.6"
  }
 },
 "nbformat": 4,
 "nbformat_minor": 2
}
